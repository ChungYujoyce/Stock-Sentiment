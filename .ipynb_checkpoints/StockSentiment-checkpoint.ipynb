{
 "cells": [
  {
   "cell_type": "code",
   "execution_count": 2,
   "metadata": {},
   "outputs": [
    {
     "name": "stderr",
     "output_type": "stream",
     "text": [
      "[nltk_data] Downloading package vader_lexicon to\n",
      "[nltk_data]     C:\\Users\\USER\\AppData\\Roaming\\nltk_data...\n"
     ]
    }
   ],
   "source": [
    "import nltk\n",
    "import warnings\n",
    "warnings.filterwarnings('ignore')\n",
    "from nltk.sentiment.vader import SentimentIntensityAnalyzer\n",
    "nltk.download('vader_lexicon')\n",
    "\n",
    "sia = SentimentIntensityAnalyzer()"
   ]
  },
  {
   "cell_type": "markdown",
   "metadata": {},
   "source": [
    "Updating Vader Lexicon with External Lexicon"
   ]
  },
  {
   "cell_type": "code",
   "execution_count": 4,
   "metadata": {},
   "outputs": [],
   "source": [
    "import csv\n",
    "import pandas as pd\n",
    "\n",
    "# stock market lexicon\n",
    "stock_lex = pd.read_csv('lexicon_data/stock_lex.csv')\n",
    "stock_lex['sentiment'] = (stock_lex['Aff_Score'] + stock_lex['Neg_Score'])/2\n",
    "stock_lex = dict(zip(stock_lex.Item, stock_lex.sentiment))\n",
    "stock_lex = {k:v for k,v in stock_lex.items() if len(k.split(' ')) == 1}\n",
    "stock_lex_scaled = {}\n",
    "for k,v in stock_lex.items():\n",
    "    if v>0:\n",
    "        stock_lex_scaled[k] = v / max(stock_lex.values()) * 4\n",
    "    else:\n",
    "        stock_lex_scaled[k] = v / min(stock_lex.values()) * -4\n",
    "        \n",
    "# loughran and MacDonald\n",
    "positive = []\n",
    "with open('lexicon_data/lm_positive.csv', 'r') as f:\n",
    "    reader = csv.reader(f)\n",
    "    for row in reader:\n",
    "        positive.append(row[0].strip())\n",
    "        \n",
    "negative = []\n",
    "with open('lexicon_data/lm_negative.csv', 'r') as f:\n",
    "    reader = csv.reader(f)\n",
    "    for row in reader:\n",
    "        entry = row[0].strip().split(\" \")\n",
    "        if len(entry) > 1:\n",
    "            negative.extend(entry)\n",
    "        else:\n",
    "            negative.extend(entry[0])\n",
    "            \n",
    "final_lex = {}\n",
    "final_lex.update({word:2.0 for word in positive})\n",
    "final_lex.update({word:-2.0 for word in negative})\n",
    "final_lex.update(stock_lex_scaled)\n",
    "final_lex.update(sia.lexicon)\n",
    "sia.lexicon = final_lex"
   ]
  },
  {
   "cell_type": "markdown",
   "metadata": {},
   "source": [
    "Scraping FB posts from Business Times"
   ]
  },
  {
   "cell_type": "code",
   "execution_count": null,
   "metadata": {},
   "outputs": [
    {
     "name": "stdout",
     "output_type": "stream",
     "text": [
      "10 Jan 2020 https://www.businesstimes.com.sg/technology/lawmakers-facebooks-steps-to-tackle-deepfake-videos-inadequate\n",
      "08 Jan 2020 https://www.businesstimes.com.sg/consumer/facebooks-new-singapore-team-to-serve-china-advertising-business\n",
      "08 Jan 2020 https://www.businesstimes.com.sg/technology/facebook-tightening-policy-against-deepfakes\n",
      "07 Jan 2020 https://www.businesstimes.com.sg/government-economy/trump-says-zuckerberg-told-him-hes-facebooks-number-one\n",
      "28 Dec 2019 https://www.businesstimes.com.sg/banking-finance/facebooks-libra-has-failed-in-current-form-says-swiss-president\n",
      "23 Dec 2019 https://www.businesstimes.com.sg/technology/data-on-more-than-250m-us-facebook-users-exposed-online\n",
      "21 Dec 2019 https://www.businesstimes.com.sg/technology/twitter-facebook-target-state-linked-accounts-made-to-manipulate\n",
      "20 Dec 2019 https://www.businesstimes.com.sg/garage/facebook-buys-startup-to-build-live-shopping-feature-source\n",
      "20 Dec 2019 https://www.businesstimes.com.sg/technology/facebook-says-investigating-data-exposure-of-267m-users\n",
      "19 Dec 2019 https://www.businesstimes.com.sg/technology/facebook-says-it-can-still-locate-users-who-opt-out-of-tracking\n",
      "18 Dec 2019 https://www.businesstimes.com.sg/technology/facebook-says-it-can-locate-users-who-opt-out-of-tracking\n",
      "16 Dec 2019 https://www.businesstimes.com.sg/technology/thief-stole-payroll-data-of-thousands-of-facebook-employees\n",
      "13 Dec 2019 https://www.businesstimes.com.sg/technology/facebook-says-ready-for-new-california-privacy-law\n",
      "13 Dec 2019 https://www.businesstimes.com.sg/technology/australia-stops-short-of-major-clampdown-on-facebook-google\n",
      "12 Dec 2019 https://www.businesstimes.com.sg/technology/australia-to-develop-code-of-conduct-for-likes-of-facebook-and-google\n",
      "11 Dec 2019 https://www.businesstimes.com.sg/technology/facebook-firm-on-message-encryption-despite-pressure\n",
      "07 Dec 2019 https://www.businesstimes.com.sg/technology/us-regulators-find-cambridge-analytica-deceived-facebook-users\n",
      "03 Dec 2019 https://www.businesstimes.com.sg/technology/eu-to-check-how-facebook-google-use-data\n",
      "29 Nov 2019 https://www.businesstimes.com.sg/technology/facebook-instagram-resolve-outage\n",
      "29 Nov 2019 https://www.businesstimes.com.sg/technology/facebook-and-instagram-report-outage\n",
      "28 Nov 2019 https://www.businesstimes.com.sg/technology/facebook-buys-maker-of-hit-vr-game-beat-saber\n",
      "26 Nov 2019 https://www.businesstimes.com.sg/technology/new-facebook-app-pays-people-to-take-part-in-surveys\n",
      "26 Nov 2019 https://www.businesstimes.com.sg/government-economy/govt-invokes-pofma-law-orders-opposition-party-member-to-correct-his-facebook\n",
      "23 Nov 2019 https://www.businesstimes.com.sg/technology/campaigns-pressure-facebook-to-stay-put-on-political-ads\n",
      "22 Nov 2019 https://www.businesstimes.com.sg/government-economy/google-shifts-rules-for-political-ads-pressuring-facebook\n",
      "21 Nov 2019 https://www.businesstimes.com.sg/technology/google-facebook-business-models-threat-to-rights-amnesty-report\n",
      "15 Nov 2019 https://www.businesstimes.com.sg/technology/facebook-says-ai-getting-better-at-spotting-unwanted-content\n",
      "14 Nov 2019 https://www.businesstimes.com.sg/technology/facebook-nixes-billions-of-fake-accounts\n",
      "13 Nov 2019 https://www.businesstimes.com.sg/technology/facebook-messaging-apps-getting-unified-payment-system\n",
      "13 Nov 2019 https://www.businesstimes.com.sg/banking-finance/sff-x-switch-2019/facebooks-libra-a-good-idea-but-still-too-many-unknowns-panellists\n",
      "13 Nov 2019 https://www.businesstimes.com.sg/opinion/ai-is-too-important-to-leave-to-google-and-facebook-alone\n",
      "12 Nov 2019 https://www.businesstimes.com.sg/banking-finance/sff-x-switch-2019/facebooks-libra-can-coexist-with-central-banks-digital-currencies\n",
      "12 Nov 2019 https://www.businesstimes.com.sg/technology/dutch-court-orders-facebook-to-pull-financial-fraud-adverts\n",
      "08 Nov 2019 https://www.businesstimes.com.sg/government-economy/facebook-unveils-steps-to-combat-2020-us-elections-disinformation\n",
      "07 Nov 2019 https://www.businesstimes.com.sg/technology/documents-show-facebook-controlling-competitors-with-user-data-report\n",
      "07 Nov 2019 https://www.businesstimes.com.sg/garage/mirae-invests-in-startup-that-streams-kids-content-from-facebook\n",
      "06 Nov 2019 https://www.businesstimes.com.sg/technology/facebook-unknowingly-shared-private-group-data-with-partners\n",
      "05 Nov 2019 https://www.businesstimes.com.sg/technology/facebook-steps-up-monitoring-for-taiwan-elections\n",
      "05 Nov 2019 https://www.businesstimes.com.sg/garage/new-facebook-logo-arrives-as-its-family-grows\n",
      "02 Nov 2019 https://www.businesstimes.com.sg/technology/facebook-isnt-defending-free-speech-its-assaulting-the-truth-for-you-and-i\n",
      "01 Nov 2019 https://www.businesstimes.com.sg/technology/lawsuit-accuses-facebook-ad-targeting-of-abetting-bias\n",
      "31 Oct 2019 https://www.businesstimes.com.sg/technology/facebook-profit-climbs-along-with-user-base\n",
      "30 Oct 2019 https://www.businesstimes.com.sg/technology/facebook-takes-more-heat-for-enabling-political-falsehoods\n",
      "25 Oct 2019 https://www.businesstimes.com.sg/consumer/facebook-calls-truce-with-publishers-as-it-unveils-facebook-news\n",
      "24 Oct 2019 https://www.businesstimes.com.sg/banking-finance/facebooks-zuckerberg-open-to-scaling-back-libra-plan\n",
      "24 Oct 2019 https://www.businesstimes.com.sg/technology/facebooks-washington-strategy-falters-as-zuckerberg-testifies-in-another-hearing\n",
      "24 Oct 2019 https://www.businesstimes.com.sg/real-estate/facebook-devotes-us1b-to-affordable-housing-in-us\n",
      "23 Oct 2019 https://www.businesstimes.com.sg/technology/more-us-states-join-anti-trust-probe-of-facebook\n",
      "22 Oct 2019 https://www.businesstimes.com.sg/government-economy/facebook-steps-up-security-amid-fresh-signs-of-russia-meddling\n",
      "21 Oct 2019 https://www.businesstimes.com.sg/banking-finance/facebooks-marcus-says-libra-wont-be-controlled-by-a-single-company\n",
      "19 Oct 2019 https://www.businesstimes.com.sg/banking-finance/g20-kicks-off-debate-to-regulate-stablecoins-in-hit-to-facebooks-libra\n",
      "19 Oct 2019 https://www.businesstimes.com.sg/government-economy/facebooks-libra-cryptocurrency-faces-new-hurdle-from-g-7-nations\n",
      "18 Oct 2019 https://www.businesstimes.com.sg/banking-finance/g-7-countries-seeking-common-stance-on-facebooks-libra\n",
      "18 Oct 2019 https://www.businesstimes.com.sg/government-economy/zuckerberg-defends-facebooks-hands-off-policy-for-politicians\n",
      "16 Oct 2019 https://www.businesstimes.com.sg/technology/facebooks-libra-selects-board-as-support-shrinks-further\n",
      "15 Oct 2019 https://www.businesstimes.com.sg/banking-finance/group-behind-facebooks-libra-coin-announces-21-founding-members\n",
      "15 Oct 2019 https://www.businesstimes.com.sg/government-economy/facebook-chief-hosts-conservative-guests-amid-bias-debate\n",
      "14 Oct 2019 https://www.businesstimes.com.sg/technology/facebook-researchers-turn-to-maths-for-better-translations\n",
      "14 Oct 2019 https://www.businesstimes.com.sg/technology/warren-campaign-runs-false-advertisements-to-challenge-facebooks-ads-policy\n",
      "12 Oct 2019 https://www.businesstimes.com.sg/banking-finance/more-companies-back-away-from-facebooks-libra-coin\n",
      "10 Oct 2019 https://www.businesstimes.com.sg/technology/global-plan-would-close-tax-havens-to-tech-giants-like-apple-and-facebook\n",
      "09 Oct 2019 https://www.businesstimes.com.sg/technology/facebook-extends-fact-checking-programme-to-10-new-african-states\n",
      "09 Oct 2019 https://www.businesstimes.com.sg/opinion/zuckerbergs-self-belief-is-a-threat-to-facebooks-future\n",
      "07 Oct 2019 https://www.businesstimes.com.sg/technology/paypal-bails-on-facebook-led-libra-cryptocurrency-dream\n",
      "05 Oct 2019 https://www.businesstimes.com.sg/banking-finance/facebooks-zuckerberg-seeks-superstar-analysts-for-new-investment-office\n",
      "05 Oct 2019 https://www.businesstimes.com.sg/banking-finance/paypal-abandons-facebook-backed-libra-cryptocurrency-group\n",
      "05 Oct 2019 https://www.businesstimes.com.sg/technology/fbi-director-warns-facebook-could-become-platform-of-child-pornographers\n",
      "04 Oct 2019 https://www.businesstimes.com.sg/technology/facebook-says-removed-multiple-accounts-from-indonesia-uae-nigeria-and-egypt\n",
      "04 Oct 2019 https://www.businesstimes.com.sg/banking-finance/us-panel-wants-facebooks-zuckerberg-to-testify-on-libra-by-january\n",
      "04 Oct 2019 https://www.businesstimes.com.sg/technology/facebooks-zuckerberg-defends-encryption-despite-child-safety-concerns\n"
     ]
    },
    {
     "name": "stdout",
     "output_type": "stream",
     "text": [
      "04 Oct 2019 https://www.businesstimes.com.sg/technology/us-allies-urge-facebook-not-to-encrypt-messages-as-they-fight-child-abuse-terrorism\n",
      "03 Oct 2019 https://www.businesstimes.com.sg/technology/facebook-may-have-to-censor-online-hate-globally-eu-judges-say\n",
      "02 Oct 2019 https://www.businesstimes.com.sg/technology/facebook-to-pay-subset-of-news-tab-publishers\n",
      "01 Oct 2019 https://www.businesstimes.com.sg/technology/ahead-of-2020-facebook-falls-short-on-plan-to-share-data-on-disinformation\n",
      "30 Sep 2019 https://www.businesstimes.com.sg/banking-finance/regulatory-concerns-may-delay-launch-of-facebooks-libra-exec\n",
      "30 Sep 2019 https://www.businesstimes.com.sg/technology/facebook-whatsapp-will-have-to-share-messages-with-uk-police\n",
      "27 Sep 2019 https://www.businesstimes.com.sg/technology/facebook-tests-hiding-likes-on-social-media-posts\n",
      "26 Sep 2019 https://www.businesstimes.com.sg/technology/facebook-unveils-virtual-social-space-for-its-oculus-users\n",
      "24 Sep 2019 https://www.businesstimes.com.sg/technology/facebook-to-buy-startup-for-controlling-computers-with-your-mind\n",
      "23 Sep 2019 https://www.businesstimes.com.sg/technology/facebooks-suspension-of-apps-reveals-wider-privacy-issues\n",
      "21 Sep 2019 https://www.businesstimes.com.sg/banking-finance/us-dollar-to-be-main-currency-backing-facebooks-libra-singapore-dollar-also-included\n"
     ]
    }
   ],
   "source": [
    "from urllib.request import urlopen\n",
    "from bs4 import BeautifulSoup\n",
    "from datetime import datetime, timedelta\n",
    "import time\n",
    "import pprint\n",
    "\n",
    "date_sentiments = {}\n",
    "\n",
    "for i in range(1,11):\n",
    "    page = urlopen('https://www.businesstimes.com.sg/search/facebook?page='+str(i)).read()\n",
    "    soup = BeautifulSoup(page, features='html.parser')\n",
    "    posts = soup.findAll(\"div\", {\"class\": \"media-body\"})\n",
    "    for post in posts:\n",
    "        time.sleep(1) # 1 -- 推迟执行的秒数。\n",
    "        url = post.a['href']\n",
    "        date = post.time.text\n",
    "        # list out all results scraped from website\n",
    "        print(date, url)\n",
    "        try:\n",
    "            link_page = urlopen(url).read()\n",
    "        except:\n",
    "            url = url[:-2]\n",
    "            link_page = urlopen(url).read()\n",
    "        link_soup = BeautifulSoup(link_page)\n",
    "        sentences = link_soup.findAll(\"p\")\n",
    "        passage = \"\"\n",
    "        for sentence in sentences:\n",
    "            passage += sentence.text\n",
    "        sentiment = sia.polarity_scores(passage)['compound']\n",
    "        date_sentiments.setdefault(date, []).append(sentiment)\n",
    "    \n",
    "date_sentiment = {}\n",
    "    \n",
    "for k,v in date_sentiments.items():\n",
    "    date_sentiment[datetime.strptime(k, '%d %b %Y').date()+ timedelta(days=1)] = round(sum(v)/float(len(v)),3)\n",
    "\n",
    "earliest_date = min(date_sentiment.keys())\n",
    "\n",
    "# count sentiment score\n",
    "print(date_sentiment)"
   ]
  },
  {
   "cell_type": "code",
   "execution_count": null,
   "metadata": {},
   "outputs": [],
   "source": []
  }
 ],
 "metadata": {
  "kernelspec": {
   "display_name": "Python 3",
   "language": "python",
   "name": "python3"
  },
  "language_info": {
   "codemirror_mode": {
    "name": "ipython",
    "version": 3
   },
   "file_extension": ".py",
   "mimetype": "text/x-python",
   "name": "python",
   "nbconvert_exporter": "python",
   "pygments_lexer": "ipython3",
   "version": "3.7.3"
  }
 },
 "nbformat": 4,
 "nbformat_minor": 2
}
